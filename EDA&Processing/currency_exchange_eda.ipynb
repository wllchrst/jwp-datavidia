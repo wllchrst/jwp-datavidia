{
 "cells": [
  {
   "cell_type": "markdown",
   "metadata": {},
   "source": [
    "### Imports"
   ]
  },
  {
   "cell_type": "code",
   "execution_count": 5,
   "metadata": {
    "_cell_guid": "b1076dfc-b9ad-4769-8c92-a6c4dae69d19",
    "_uuid": "8f2839f25d086af736a60e9eeb907d3b93b6e0e5",
    "execution": {
     "iopub.execute_input": "2025-03-05T02:50:39.768687Z",
     "iopub.status.busy": "2025-03-05T02:50:39.768386Z",
     "iopub.status.idle": "2025-03-05T02:50:39.772974Z",
     "shell.execute_reply": "2025-03-05T02:50:39.771809Z",
     "shell.execute_reply.started": "2025-03-05T02:50:39.768666Z"
    },
    "trusted": true
   },
   "outputs": [],
   "source": [
    "import os\n",
    "import pandas as pd\n",
    "\n",
    "import warnings\n",
    "warnings.filterwarnings(\"ignore\")"
   ]
  },
  {
   "cell_type": "code",
   "execution_count": 6,
   "metadata": {
    "execution": {
     "iopub.execute_input": "2025-03-05T02:50:39.774693Z",
     "iopub.status.busy": "2025-03-05T02:50:39.774400Z",
     "iopub.status.idle": "2025-03-05T02:50:39.792951Z",
     "shell.execute_reply": "2025-03-05T02:50:39.791819Z",
     "shell.execute_reply.started": "2025-03-05T02:50:39.774662Z"
    },
    "trusted": true
   },
   "outputs": [],
   "source": [
    "input_folder = '../comodity-price-prediction-penyisihan-arkavidia-9/'"
   ]
  },
  {
   "cell_type": "code",
   "execution_count": 7,
   "metadata": {
    "execution": {
     "iopub.execute_input": "2025-03-05T02:50:39.794927Z",
     "iopub.status.busy": "2025-03-05T02:50:39.794617Z",
     "iopub.status.idle": "2025-03-05T02:50:39.812466Z",
     "shell.execute_reply": "2025-03-05T02:50:39.811688Z",
     "shell.execute_reply.started": "2025-03-05T02:50:39.794902Z"
    },
    "trusted": true
   },
   "outputs": [
    {
     "data": {
      "text/plain": [
       "['Google Trend',\n",
       " '.DS_Store',\n",
       " 'Harga Bahan Pangan',\n",
       " 'Mata Uang',\n",
       " 'Global Commodity Price']"
      ]
     },
     "execution_count": 7,
     "metadata": {},
     "output_type": "execute_result"
    }
   ],
   "source": [
    "os.listdir(input_folder)"
   ]
  },
  {
   "cell_type": "markdown",
   "metadata": {},
   "source": [
    "### Mata Uang"
   ]
  },
  {
   "cell_type": "code",
   "execution_count": 8,
   "metadata": {
    "execution": {
     "iopub.execute_input": "2025-03-05T02:50:39.813695Z",
     "iopub.status.busy": "2025-03-05T02:50:39.813470Z",
     "iopub.status.idle": "2025-03-05T02:50:39.826395Z",
     "shell.execute_reply": "2025-03-05T02:50:39.825472Z",
     "shell.execute_reply.started": "2025-03-05T02:50:39.813676Z"
    },
    "trusted": true
   },
   "outputs": [
    {
     "data": {
      "text/plain": [
       "['MYRUSD=X.csv', 'THBUSD=X.csv', 'USDIDR=X.csv', 'SGDUSD=X.csv']"
      ]
     },
     "execution_count": 8,
     "metadata": {},
     "output_type": "execute_result"
    }
   ],
   "source": [
    "mata_uang_folder = input_folder + '/Mata Uang'\n",
    "os.listdir(mata_uang_folder)"
   ]
  },
  {
   "cell_type": "code",
   "execution_count": 9,
   "metadata": {
    "execution": {
     "iopub.execute_input": "2025-03-05T02:50:48.422449Z",
     "iopub.status.busy": "2025-03-05T02:50:48.422157Z",
     "iopub.status.idle": "2025-03-05T02:50:48.445753Z",
     "shell.execute_reply": "2025-03-05T02:50:48.444320Z",
     "shell.execute_reply.started": "2025-03-05T02:50:48.422426Z"
    },
    "trusted": true
   },
   "outputs": [],
   "source": [
    "usd_idr = pd.read_csv(mata_uang_folder + '/USDIDR=X.csv')"
   ]
  },
  {
   "cell_type": "code",
   "execution_count": 10,
   "metadata": {
    "execution": {
     "iopub.execute_input": "2025-03-05T02:51:27.479658Z",
     "iopub.status.busy": "2025-03-05T02:51:27.479385Z",
     "iopub.status.idle": "2025-03-05T02:51:27.489176Z",
     "shell.execute_reply": "2025-03-05T02:51:27.488592Z",
     "shell.execute_reply.started": "2025-03-05T02:51:27.479636Z"
    },
    "trusted": true
   },
   "outputs": [
    {
     "data": {
      "text/html": [
       "<div>\n",
       "<style scoped>\n",
       "    .dataframe tbody tr th:only-of-type {\n",
       "        vertical-align: middle;\n",
       "    }\n",
       "\n",
       "    .dataframe tbody tr th {\n",
       "        vertical-align: top;\n",
       "    }\n",
       "\n",
       "    .dataframe thead th {\n",
       "        text-align: right;\n",
       "    }\n",
       "</style>\n",
       "<table border=\"1\" class=\"dataframe\">\n",
       "  <thead>\n",
       "    <tr style=\"text-align: right;\">\n",
       "      <th></th>\n",
       "      <th>Date</th>\n",
       "      <th>Adj Close</th>\n",
       "      <th>Close</th>\n",
       "      <th>High</th>\n",
       "      <th>Low</th>\n",
       "      <th>Open</th>\n",
       "      <th>Volume</th>\n",
       "    </tr>\n",
       "  </thead>\n",
       "  <tbody>\n",
       "    <tr>\n",
       "      <th>0</th>\n",
       "      <td>2022-01-03</td>\n",
       "      <td>14215.000000</td>\n",
       "      <td>14215.000000</td>\n",
       "      <td>14301.299805</td>\n",
       "      <td>14207.500000</td>\n",
       "      <td>14246.000000</td>\n",
       "      <td>0</td>\n",
       "    </tr>\n",
       "    <tr>\n",
       "      <th>1</th>\n",
       "      <td>2022-01-04</td>\n",
       "      <td>14283.599609</td>\n",
       "      <td>14283.599609</td>\n",
       "      <td>14383.299805</td>\n",
       "      <td>14259.000000</td>\n",
       "      <td>14303.700195</td>\n",
       "      <td>0</td>\n",
       "    </tr>\n",
       "    <tr>\n",
       "      <th>2</th>\n",
       "      <td>2022-01-05</td>\n",
       "      <td>14385.500000</td>\n",
       "      <td>14385.500000</td>\n",
       "      <td>14398.500000</td>\n",
       "      <td>14336.700195</td>\n",
       "      <td>14346.400391</td>\n",
       "      <td>0</td>\n",
       "    </tr>\n",
       "    <tr>\n",
       "      <th>3</th>\n",
       "      <td>2022-01-06</td>\n",
       "      <td>14446.500000</td>\n",
       "      <td>14446.500000</td>\n",
       "      <td>14445.799805</td>\n",
       "      <td>14351.000000</td>\n",
       "      <td>14445.799805</td>\n",
       "      <td>0</td>\n",
       "    </tr>\n",
       "    <tr>\n",
       "      <th>4</th>\n",
       "      <td>2022-01-07</td>\n",
       "      <td>14408.000000</td>\n",
       "      <td>14408.000000</td>\n",
       "      <td>14408.000000</td>\n",
       "      <td>14320.500000</td>\n",
       "      <td>14408.000000</td>\n",
       "      <td>0</td>\n",
       "    </tr>\n",
       "    <tr>\n",
       "      <th>5</th>\n",
       "      <td>2022-01-10</td>\n",
       "      <td>14318.500000</td>\n",
       "      <td>14318.500000</td>\n",
       "      <td>14351.000000</td>\n",
       "      <td>14262.299805</td>\n",
       "      <td>14351.000000</td>\n",
       "      <td>0</td>\n",
       "    </tr>\n",
       "    <tr>\n",
       "      <th>6</th>\n",
       "      <td>2022-01-11</td>\n",
       "      <td>14313.000000</td>\n",
       "      <td>14313.000000</td>\n",
       "      <td>14322.299805</td>\n",
       "      <td>14251.389648</td>\n",
       "      <td>14312.000000</td>\n",
       "      <td>0</td>\n",
       "    </tr>\n",
       "    <tr>\n",
       "      <th>7</th>\n",
       "      <td>2022-01-12</td>\n",
       "      <td>14277.000000</td>\n",
       "      <td>14277.000000</td>\n",
       "      <td>14355.500000</td>\n",
       "      <td>14257.500000</td>\n",
       "      <td>14303.000000</td>\n",
       "      <td>0</td>\n",
       "    </tr>\n",
       "    <tr>\n",
       "      <th>8</th>\n",
       "      <td>2022-01-13</td>\n",
       "      <td>14298.900391</td>\n",
       "      <td>14298.900391</td>\n",
       "      <td>14326.200195</td>\n",
       "      <td>14266.000000</td>\n",
       "      <td>14321.500000</td>\n",
       "      <td>0</td>\n",
       "    </tr>\n",
       "    <tr>\n",
       "      <th>9</th>\n",
       "      <td>2022-01-14</td>\n",
       "      <td>14276.000000</td>\n",
       "      <td>14276.000000</td>\n",
       "      <td>14324.299805</td>\n",
       "      <td>14239.450195</td>\n",
       "      <td>14273.000000</td>\n",
       "      <td>0</td>\n",
       "    </tr>\n",
       "  </tbody>\n",
       "</table>\n",
       "</div>"
      ],
      "text/plain": [
       "         Date     Adj Close         Close          High           Low  \\\n",
       "0  2022-01-03  14215.000000  14215.000000  14301.299805  14207.500000   \n",
       "1  2022-01-04  14283.599609  14283.599609  14383.299805  14259.000000   \n",
       "2  2022-01-05  14385.500000  14385.500000  14398.500000  14336.700195   \n",
       "3  2022-01-06  14446.500000  14446.500000  14445.799805  14351.000000   \n",
       "4  2022-01-07  14408.000000  14408.000000  14408.000000  14320.500000   \n",
       "5  2022-01-10  14318.500000  14318.500000  14351.000000  14262.299805   \n",
       "6  2022-01-11  14313.000000  14313.000000  14322.299805  14251.389648   \n",
       "7  2022-01-12  14277.000000  14277.000000  14355.500000  14257.500000   \n",
       "8  2022-01-13  14298.900391  14298.900391  14326.200195  14266.000000   \n",
       "9  2022-01-14  14276.000000  14276.000000  14324.299805  14239.450195   \n",
       "\n",
       "           Open  Volume  \n",
       "0  14246.000000       0  \n",
       "1  14303.700195       0  \n",
       "2  14346.400391       0  \n",
       "3  14445.799805       0  \n",
       "4  14408.000000       0  \n",
       "5  14351.000000       0  \n",
       "6  14312.000000       0  \n",
       "7  14303.000000       0  \n",
       "8  14321.500000       0  \n",
       "9  14273.000000       0  "
      ]
     },
     "execution_count": 10,
     "metadata": {},
     "output_type": "execute_result"
    }
   ],
   "source": [
    "usd_idr.head(10)"
   ]
  },
  {
   "cell_type": "code",
   "execution_count": 11,
   "metadata": {
    "execution": {
     "iopub.execute_input": "2025-03-05T03:03:27.003566Z",
     "iopub.status.busy": "2025-03-05T03:03:27.003275Z",
     "iopub.status.idle": "2025-03-05T03:03:27.010599Z",
     "shell.execute_reply": "2025-03-05T03:03:27.009776Z",
     "shell.execute_reply.started": "2025-03-05T03:03:27.003545Z"
    },
    "trusted": true
   },
   "outputs": [
    {
     "data": {
      "text/plain": [
       "0.0"
      ]
     },
     "execution_count": 11,
     "metadata": {},
     "output_type": "execute_result"
    }
   ],
   "source": [
    "# Volume Column \n",
    "usd_idr['Volume'].mean()"
   ]
  },
  {
   "cell_type": "code",
   "execution_count": 12,
   "metadata": {
    "execution": {
     "iopub.execute_input": "2025-03-05T03:12:43.892100Z",
     "iopub.status.busy": "2025-03-05T03:12:43.891750Z",
     "iopub.status.idle": "2025-03-05T03:12:43.897384Z",
     "shell.execute_reply": "2025-03-05T03:12:43.896018Z",
     "shell.execute_reply.started": "2025-03-05T03:12:43.892075Z"
    },
    "trusted": true
   },
   "outputs": [],
   "source": [
    "usd_idr.drop(columns=['Volume'], inplace=True)"
   ]
  },
  {
   "cell_type": "code",
   "execution_count": 17,
   "metadata": {
    "execution": {
     "iopub.execute_input": "2025-03-05T03:15:54.187485Z",
     "iopub.status.busy": "2025-03-05T03:15:54.187141Z",
     "iopub.status.idle": "2025-03-05T03:15:54.195032Z",
     "shell.execute_reply": "2025-03-05T03:15:54.193891Z",
     "shell.execute_reply.started": "2025-03-05T03:15:54.187457Z"
    },
    "trusted": true
   },
   "outputs": [
    {
     "name": "stdout",
     "output_type": "stream",
     "text": [
      "MYRUSD\n",
      "         Date  Adj Close     Close      High       Low      Open  Volume\n",
      "0  2022-01-03   0.239521  0.239521  0.240038  0.239722  0.240038       0\n",
      "1  2022-01-04   0.239808  0.239808  0.239751  0.239006  0.239406       0\n",
      "2  2022-01-05   0.239006  0.239006  0.238949  0.238521  0.238949       0\n",
      "3  2022-01-06   0.238550  0.238550  0.238550  0.237473  0.238436       0\n",
      "4  2022-01-07   0.237473  0.237473  0.238095  0.237248  0.237248       0\n",
      "THBUSD\n",
      "         Date  Adj Close     Close      High       Low      Open  Volume\n",
      "0  2022-01-03   0.030201  0.030201  0.030216  0.029976  0.030189       0\n",
      "1  2022-01-04   0.030082  0.030082  0.030125  0.029979  0.030082       0\n",
      "2  2022-01-05   0.030083  0.030083  0.030234  0.030048  0.030095       0\n",
      "3  2022-01-06   0.030077  0.030077  0.030125  0.029771  0.030101       0\n",
      "4  2022-01-07   0.029804  0.029804  0.029877  0.029652  0.029804       0\n",
      "USDIDR\n",
      "         Date     Adj Close         Close          High           Low  \\\n",
      "0  2022-01-03  14215.000000  14215.000000  14301.299805  14207.500000   \n",
      "1  2022-01-04  14283.599609  14283.599609  14383.299805  14259.000000   \n",
      "2  2022-01-05  14385.500000  14385.500000  14398.500000  14336.700195   \n",
      "3  2022-01-06  14446.500000  14446.500000  14445.799805  14351.000000   \n",
      "4  2022-01-07  14408.000000  14408.000000  14408.000000  14320.500000   \n",
      "\n",
      "           Open  Volume  \n",
      "0  14246.000000       0  \n",
      "1  14303.700195       0  \n",
      "2  14346.400391       0  \n",
      "3  14445.799805       0  \n",
      "4  14408.000000       0  \n",
      "SGDUSD\n",
      "         Date  Adj Close     Close      High       Low      Open  Volume\n",
      "0  2022-01-03   0.741730  0.741730  0.742115  0.738531  0.741713       0\n",
      "1  2022-01-04   0.739033  0.739033  0.739481  0.736269  0.739044       0\n",
      "2  2022-01-05   0.737621  0.737621  0.738880  0.737148  0.737844       0\n",
      "3  2022-01-06   0.736534  0.736534  0.737354  0.734549  0.736534       0\n",
      "4  2022-01-07   0.734786  0.734786  0.737708  0.734619  0.734819       0\n"
     ]
    }
   ],
   "source": [
    "for csv in os.listdir(mata_uang_folder):\n",
    "    path = f'{mata_uang_folder}/{csv}'\n",
    "    df = pd.read_csv(path)\n",
    "    df.drop(columns=['Volume'])\n",
    "\n",
    "    print(csv.split('=')[0])\n",
    "    print(df.head())"
   ]
  }
 ],
 "metadata": {
  "kaggle": {
   "accelerator": "none",
   "dataSources": [
    {
     "databundleVersionId": 11279751,
     "sourceId": 92581,
     "sourceType": "competition"
    }
   ],
   "dockerImageVersionId": 30918,
   "isGpuEnabled": false,
   "isInternetEnabled": false,
   "language": "python",
   "sourceType": "notebook"
  },
  "kernelspec": {
   "display_name": "Python312",
   "language": "python",
   "name": "python3"
  },
  "language_info": {
   "codemirror_mode": {
    "name": "ipython",
    "version": 3
   },
   "file_extension": ".py",
   "mimetype": "text/x-python",
   "name": "python",
   "nbconvert_exporter": "python",
   "pygments_lexer": "ipython3",
   "version": "3.12.8"
  }
 },
 "nbformat": 4,
 "nbformat_minor": 4
}
