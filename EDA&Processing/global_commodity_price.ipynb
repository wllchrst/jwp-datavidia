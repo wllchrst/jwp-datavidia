{
 "cells": [
  {
   "cell_type": "code",
   "execution_count": 1,
   "metadata": {},
   "outputs": [],
   "source": [
    "import os\n",
    "import pandas as pd\n",
    "\n",
    "import warnings\n",
    "warnings.filterwarnings(\"ignore\")"
   ]
  },
  {
   "cell_type": "code",
   "execution_count": 2,
   "metadata": {},
   "outputs": [
    {
     "data": {
      "text/plain": [
       "['US Sugar 11 Futures Historical Data.csv',\n",
       " 'Natural Gas Futures Historical Data.csv',\n",
       " 'US Wheat Futures Historical Data.csv',\n",
       " 'Crude Oil WTI Futures Historical Data.csv',\n",
       " 'Palm Oil Futures Historical Data.csv',\n",
       " 'Newcastle Coal Futures Historical Data.csv']"
      ]
     },
     "execution_count": 2,
     "metadata": {},
     "output_type": "execute_result"
    }
   ],
   "source": [
    "input_folder = '../comodity-price-prediction-penyisihan-arkavidia-9/Global Commodity Price'\n",
    "os.listdir(input_folder)"
   ]
  },
  {
   "cell_type": "markdown",
   "metadata": {},
   "source": [
    "##### Single CSV Anayslis"
   ]
  },
  {
   "cell_type": "code",
   "execution_count": 3,
   "metadata": {},
   "outputs": [],
   "source": [
    "path_example = f'{input_folder}/US Sugar 11 Futures Historical Data.csv'"
   ]
  },
  {
   "cell_type": "markdown",
   "metadata": {},
   "source": [
    "##### Data Information\n",
    "\n",
    "Feature Explanation\n",
    "\n",
    "- Date: Information Date for each row\n",
    "- Price: Ending price for that day\n",
    "- Open: Price for the commodity openning price for the date\n",
    "- High: Highest price for the date\n",
    "- Low: Lowest price for the date\n",
    "- Vol: Number of trades and transactions for that commodity\n",
    "- Change: Change Percentage from open to ending price"
   ]
  },
  {
   "cell_type": "code",
   "execution_count": 5,
   "metadata": {},
   "outputs": [
    {
     "data": {
      "text/html": [
       "<div>\n",
       "<style scoped>\n",
       "    .dataframe tbody tr th:only-of-type {\n",
       "        vertical-align: middle;\n",
       "    }\n",
       "\n",
       "    .dataframe tbody tr th {\n",
       "        vertical-align: top;\n",
       "    }\n",
       "\n",
       "    .dataframe thead th {\n",
       "        text-align: right;\n",
       "    }\n",
       "</style>\n",
       "<table border=\"1\" class=\"dataframe\">\n",
       "  <thead>\n",
       "    <tr style=\"text-align: right;\">\n",
       "      <th></th>\n",
       "      <th>Date</th>\n",
       "      <th>Price</th>\n",
       "      <th>Open</th>\n",
       "      <th>High</th>\n",
       "      <th>Low</th>\n",
       "      <th>Vol.</th>\n",
       "      <th>Change %</th>\n",
       "    </tr>\n",
       "  </thead>\n",
       "  <tbody>\n",
       "    <tr>\n",
       "      <th>0</th>\n",
       "      <td>2024-09-30</td>\n",
       "      <td>22.67</td>\n",
       "      <td>22.70</td>\n",
       "      <td>22.84</td>\n",
       "      <td>22.10</td>\n",
       "      <td>18.86K</td>\n",
       "      <td>-0.53%</td>\n",
       "    </tr>\n",
       "    <tr>\n",
       "      <th>1</th>\n",
       "      <td>2024-09-27</td>\n",
       "      <td>22.79</td>\n",
       "      <td>23.22</td>\n",
       "      <td>23.22</td>\n",
       "      <td>22.51</td>\n",
       "      <td>32.86K</td>\n",
       "      <td>-2.23%</td>\n",
       "    </tr>\n",
       "    <tr>\n",
       "      <th>2</th>\n",
       "      <td>2024-09-26</td>\n",
       "      <td>23.31</td>\n",
       "      <td>23.58</td>\n",
       "      <td>23.71</td>\n",
       "      <td>23.23</td>\n",
       "      <td>23.47K</td>\n",
       "      <td>-0.47%</td>\n",
       "    </tr>\n",
       "    <tr>\n",
       "      <th>3</th>\n",
       "      <td>2024-09-25</td>\n",
       "      <td>23.42</td>\n",
       "      <td>22.99</td>\n",
       "      <td>23.57</td>\n",
       "      <td>22.90</td>\n",
       "      <td>32.17K</td>\n",
       "      <td>1.30%</td>\n",
       "    </tr>\n",
       "    <tr>\n",
       "      <th>4</th>\n",
       "      <td>2024-09-24</td>\n",
       "      <td>23.12</td>\n",
       "      <td>22.50</td>\n",
       "      <td>23.30</td>\n",
       "      <td>22.38</td>\n",
       "      <td>38.33K</td>\n",
       "      <td>2.53%</td>\n",
       "    </tr>\n",
       "  </tbody>\n",
       "</table>\n",
       "</div>"
      ],
      "text/plain": [
       "         Date  Price   Open   High    Low    Vol. Change %\n",
       "0  2024-09-30  22.67  22.70  22.84  22.10  18.86K   -0.53%\n",
       "1  2024-09-27  22.79  23.22  23.22  22.51  32.86K   -2.23%\n",
       "2  2024-09-26  23.31  23.58  23.71  23.23  23.47K   -0.47%\n",
       "3  2024-09-25  23.42  22.99  23.57  22.90  32.17K    1.30%\n",
       "4  2024-09-24  23.12  22.50  23.30  22.38  38.33K    2.53%"
      ]
     },
     "execution_count": 5,
     "metadata": {},
     "output_type": "execute_result"
    }
   ],
   "source": [
    "df = pd.read_csv(path_example)\n",
    "\n",
    "df.head()"
   ]
  }
 ],
 "metadata": {
  "kernelspec": {
   "display_name": "Python312",
   "language": "python",
   "name": "python3"
  },
  "language_info": {
   "codemirror_mode": {
    "name": "ipython",
    "version": 3
   },
   "file_extension": ".py",
   "mimetype": "text/x-python",
   "name": "python",
   "nbconvert_exporter": "python",
   "pygments_lexer": "ipython3",
   "version": "3.12.8"
  }
 },
 "nbformat": 4,
 "nbformat_minor": 2
}
